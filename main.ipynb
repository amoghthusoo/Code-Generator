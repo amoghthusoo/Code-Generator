{
 "cells": [
  {
   "cell_type": "markdown",
   "id": "fa4cc64a",
   "metadata": {},
   "source": [
    "#### 📦 Import Dependencies\n",
    "\n",
    "This cell imports the required Python modules:\n",
    "\n",
    "- `os`: Accesses environment variables (used to securely load the API key).\n",
    "- `requests`: Sends HTTP requests to interact with the Gemini API.\n",
    "- `load_dotenv` from `dotenv`: Loads environment variables from a `.env` file into the runtime environment.\n",
    "\n",
    "These imports are essential for securely managing configuration and communicating with the external API."
   ]
  },
  {
   "cell_type": "code",
   "execution_count": 1,
   "id": "79a20867",
   "metadata": {},
   "outputs": [],
   "source": [
    "import os\n",
    "import requests\n",
    "from dotenv import load_dotenv"
   ]
  },
  {
   "cell_type": "markdown",
   "id": "03df5617",
   "metadata": {},
   "source": [
    "#### 🔐 Load API Key from Environment\n",
    "\n",
    "This cell securely loads your Gemini API key into the notebook:\n",
    "\n",
    "- `load_dotenv()` reads the `.env` file in the project directory and loads the key-value pairs as environment variables.\n",
    "- `os.getenv(\"GEMINI_API_KEY\")` retrieves the value of the `GEMINI_API_KEY` from those environment variables and assigns it to `api_key`.\n",
    "\n",
    "This method ensures sensitive credentials are not hard-coded into the notebook."
   ]
  },
  {
   "cell_type": "code",
   "execution_count": 2,
   "id": "7734d318",
   "metadata": {},
   "outputs": [],
   "source": [
    "load_dotenv()\n",
    "api_key = os.getenv(\"GEMINI_API_KEY\")"
   ]
  },
  {
   "cell_type": "markdown",
   "id": "752dc12f",
   "metadata": {},
   "source": [
    "#### 🧠 Define Code Generation Function\n",
    "\n",
    "This function sends a natural language prompt to the Gemini API and retrieves only the generated code snippet as output.\n",
    "\n",
    "- Constructs the API `POST` request with:\n",
    "  - Target URL: Gemini's OpenAI-compatible chat completion endpoint.\n",
    "  - `Authorization` header using your API key.\n",
    "  - Request payload specifying:\n",
    "    - Model to use (`gemini-2.5-flash`)\n",
    "    - A prompt instructing Gemini to generate code in the selected language without any explanation.\n",
    "\n",
    "- Sends the request using `requests.post()`.\n",
    "- Extracts the returned code using:\n",
    "  ```python\n",
    "  response.json()[\"choices\"][0][\"message\"][\"content\"].strip()"
   ]
  },
  {
   "cell_type": "code",
   "execution_count": 3,
   "id": "939697d4",
   "metadata": {},
   "outputs": [],
   "source": [
    "def generate_code(prompt_text, language):\n",
    "    url = \"https://generativelanguage.googleapis.com/v1beta/openai/chat/completions\"\n",
    "    headers = {\n",
    "        \"Authorization\": f\"Bearer {api_key}\",\n",
    "        \"Content-Type\": \"application/json\"\n",
    "    }\n",
    "    data = {\n",
    "        \"model\": \"gemini-2.5-flash\",\n",
    "        \"messages\": [\n",
    "            {\"role\": \"user\", \"content\": f\"Write a {language} code snippet that does the following:\\n{prompt_text}\\n Just write the code, please don't explain.\"}\n",
    "        ]\n",
    "    }\n",
    "\n",
    "    response = requests.post(url, headers=headers, json=data)\n",
    "    return response.json()[\"choices\"][0][\"message\"][\"content\"].strip()\n"
   ]
  },
  {
   "cell_type": "markdown",
   "id": "3a8f862c",
   "metadata": {},
   "source": [
    "#### 🧾 Collect User Input and Display Output\n",
    "\n",
    "This cell handles user interaction and generates the final output:\n",
    "\n",
    "- Prompts the user to enter the **target programming language** (`input()`).\n",
    "- Prompts the user to describe the **desired functionality** for the code generator.\n",
    "- Passes both inputs to the `generate_code()` function.\n",
    "- Prints a clean label (`🔧 Generated Code:`) followed by the returned code snippet.\n",
    "\n",
    "This cell serves as the main interaction point between the user and the AI-powered code engine.\n"
   ]
  },
  {
   "cell_type": "code",
   "execution_count": 4,
   "id": "45b9d86c",
   "metadata": {},
   "outputs": [
    {
     "name": "stdout",
     "output_type": "stream",
     "text": [
      "\n",
      "🔧 Generated Code:\n",
      "\n",
      "```python\n",
      "for i in range(1, 11):\n",
      "    print(f\"5 x {i} = {5 * i}\")\n",
      "```\n"
     ]
    }
   ],
   "source": [
    "language = input(\"Enter the language in which you want the code to be generated : \")\n",
    "user_prompt = input(\"Describe what you want the code to do : \")\n",
    "code_output = generate_code(user_prompt, language)\n",
    "print(\"\\n🔧 Generated Code:\\n\")\n",
    "print(code_output)"
   ]
  }
 ],
 "metadata": {
  "kernelspec": {
   "display_name": "code_generator",
   "language": "python",
   "name": "python3"
  },
  "language_info": {
   "codemirror_mode": {
    "name": "ipython",
    "version": 3
   },
   "file_extension": ".py",
   "mimetype": "text/x-python",
   "name": "python",
   "nbconvert_exporter": "python",
   "pygments_lexer": "ipython3",
   "version": "3.13.5"
  }
 },
 "nbformat": 4,
 "nbformat_minor": 5
}
